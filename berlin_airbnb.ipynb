{
 "cells": [
  {
   "cell_type": "markdown",
   "metadata": {},
   "source": [
    "# Berlin Airbnb Data Analysis\n",
    "\n",
    "In the following project I'm looking at data of Airbnb listings for the city of Berlin for the period of 07/2019 - 07/2020. \n",
    "The data was downloaded from the [insideairbnb.com](http://insideairbnb.com/get-the-data.html) website.\n",
    "\n",
    "The goal of this notebook is to clean, transform and visualize the data in order to answer the three following questions:\n",
    "\n",
    "\n",
    "1. Looking at the prices for Airbnb listings for Berlin, do prices differ among the Berlin neighborhoods? Do some neighborhoods have more expensive or cheaper Airbnb listings than others?\n",
    "\n",
    "2. Do visitor numbers and listing prices fluctuate over the year?\n",
    "\n",
    "3. How do Airbnb prices in Berlin compare to another large german city, Munich?\n",
    "\n",
    "A short blog post discussing the results can be found [here](https://www.google.com)."
   ]
  },
  {
   "cell_type": "code",
   "execution_count": null,
   "metadata": {},
   "outputs": [],
   "source": [
    "import numpy as np\n",
    "import pandas as pd\n",
    "import matplotlib.pyplot as plt\n",
    "import seaborn as sns"
   ]
  },
  {
   "cell_type": "markdown",
   "metadata": {},
   "source": [
    "### 1. Looking at the prices for Airbnb listings for Berlin, do prices differ among the different Berlin neighborhoods?"
   ]
  },
  {
   "cell_type": "code",
   "execution_count": null,
   "metadata": {},
   "outputs": [],
   "source": [
    "# Loading the listings data for Berlin\n",
    "ber_listings_url = \"http://data.insideairbnb.com/germany/be/berlin/2019-07-11/data/listings.csv.gz\"\n",
    "ber_listings = pd.read_csv(ber_listings_url)\n",
    "ber_listings.head(3)"
   ]
  },
  {
   "cell_type": "code",
   "execution_count": null,
   "metadata": {},
   "outputs": [],
   "source": [
    "# Loading the calendar data for Berlin\n",
    "ber_calendar_url = \"http://data.insideairbnb.com/germany/be/berlin/2019-07-11/data/calendar.csv.gz\"\n",
    "ber_calendar = pd.read_csv(ber_calendar_url)\n",
    "ber_calendar.head(3)"
   ]
  },
  {
   "cell_type": "code",
   "execution_count": null,
   "metadata": {},
   "outputs": [],
   "source": [
    "# Converting the price variable in ber_calendar to numeric\n",
    "ber_calendar[\"price\"] = pd.to_numeric(ber_calendar[\"price\"].str.replace(\"$\",\"\"), errors=\"coerce\")\n",
    "ber_calendar = ber_calendar.dropna(subset=[\"price\"])\n",
    "                                   \n",
    "# Calculating the average price for every listing throughout the whole year\n",
    "ber_avg_price = ber_calendar.groupby(\"listing_id\")[\"price\"].mean()\n",
    "ber_avg_price = ber_avg_price.reset_index()\n",
    "\n",
    "# Adding the neighbourhood_group and number of beds information to ber_avg_price\n",
    "ber_avg_price = pd.merge(ber_avg_price, ber_listings[[\"id\", \"neighbourhood_group_cleansed\", \"beds\"]], left_on=\"listing_id\", right_on=\"id\")\n",
    "ber_avg_price = ber_avg_price[[\"listing_id\", \"neighbourhood_group_cleansed\", \"price\", \"beds\"]]\n",
    "\n",
    "# Calculating average listing price for every Berlin district\n",
    "ber_price_district = ber_avg_price.groupby(\"neighbourhood_group_cleansed\")[\"price\"].mean().sort_values(ascending=False)\n",
    "ber_price_district = ber_price_district.reset_index()"
   ]
  },
  {
   "cell_type": "code",
   "execution_count": null,
   "metadata": {},
   "outputs": [],
   "source": [
    "plt.figure(figsize=(8,5))\n",
    "\n",
    "flierprops = dict(markersize=0.5, linestyle='none', color=\"#f4f4f4\")\n",
    "\n",
    "sort_median = ber_avg_price.groupby(\"neighbourhood_group_cleansed\")[\"price\"].median().sort_values(ascending=False)\n",
    "\n",
    "sns.boxplot(ber_avg_price[\"price\"], ber_avg_price[\"neighbourhood_group_cleansed\"], \n",
    "            orient=\"h\", flierprops=flierprops, order=sort_median.index, color=\"#0485d1\")\n",
    "\n",
    "# setting x_limit to 400, because of many outliers\n",
    "plt.xlim(0, 400)\n",
    "\n",
    "plt.ylabel(\"\")\n",
    "plt.xlabel(\"Listing Price ($)\", size=12)\n",
    "plt.title(\"Distribution of Prices in Berlin Districts\", size=14, pad=12)\n",
    "\n",
    "sns.despine()\n",
    "plt.tight_layout();"
   ]
  },
  {
   "cell_type": "markdown",
   "metadata": {},
   "source": [
    "All the different district in Berlin show a surprisingly wide range of listing prices. For instance, in Berlin-Pankow prices go from 9\\\\$ to 800\\\\$. This wide price range could be explained by the many factors that influence the listing price, for example room number, apartment size etc.\n",
    "An additional explanation could be that the chosen districts (or neighborhood groups) are very large and diverse city areas comprised of very different smaller neighborhoods that might be more or less affluent.\n",
    "The district with the highest median price of 59\\\\$ is Berlin-Pankow. Berlin-Reinickendorf on the other hand has only a median listing price of 40\\\\$."
   ]
  },
  {
   "cell_type": "markdown",
   "metadata": {},
   "source": [
    "One might get a better overview by looking at the 10% of the most expensive and least expensive listings repectively, and compare how they are distributed over the city:"
   ]
  },
  {
   "cell_type": "code",
   "execution_count": null,
   "metadata": {},
   "outputs": [],
   "source": [
    "# Defining the cutoffs to select the 10% of listings with the highest and lowest prices respectively\n",
    "high_cutoff = ber_avg_price[\"price\"].quantile(0.90)\n",
    "low_cutoff = ber_avg_price[\"price\"].quantile(0.10)\n",
    "\n",
    "expensive_listings = ber_avg_price[ber_avg_price[\"price\"] >= high_cutoff]\n",
    "cheap_listings = ber_avg_price[ber_avg_price[\"price\"] <= low_cutoff]\n",
    "\n",
    "# Selecting the 5% of listings with the highest prices\n",
    "extreme_prices = expensive_listings.groupby(\"neighbourhood_group_cleansed\")[\"price\"].count()\n",
    "extreme_prices = extreme_prices.reset_index()\n",
    "extreme_prices = extreme_prices.rename(columns={\"price\":\"Expensive\"})\n",
    "\n",
    "# Adding the 5% of listings with the lowest prices to extreme_prices\n",
    "low_prices = cheap_listings.groupby(\"neighbourhood_group_cleansed\")[\"price\"].count()\n",
    "low_prices = low_prices.reset_index()\n",
    "extreme_prices[\"Cheap\"] = low_prices[\"price\"]\n",
    "\n",
    "# Transforming extreme_prices for the visualization\n",
    "extreme_prices = extreme_prices.sort_values(\"Expensive\", ascending=False)\n",
    "extreme_prices = pd.melt(extreme_prices, id_vars=\"neighbourhood_group_cleansed\", var_name=\"Category\", value_name=\"Listings\")"
   ]
  },
  {
   "cell_type": "code",
   "execution_count": null,
   "metadata": {},
   "outputs": [],
   "source": [
    "plt.figure(figsize=(10,5))\n",
    "sns.barplot(x='Listings', y='neighbourhood_group_cleansed', hue='Category', data=extreme_prices, \n",
    "            orient=\"h\", palette=[\"#0485d1\", \"#ff474c\"])\n",
    "\n",
    "plt.ylabel(\"\")\n",
    "plt.xlabel(\"Number of Listings\", size=12)\n",
    "sns.despine()\n",
    "plt.title(\"Number of Airbnb Listings in Berlin with Very High and Low Prices\", size=14, pad=12)\n",
    "plt.legend(frameon=False)\n",
    "plt.tight_layout();"
   ]
  },
  {
   "cell_type": "markdown",
   "metadata": {},
   "source": [
    "Looking at the distribution of 10% of the most and least expensive listings one can make a couple of interesting observations. Berlin-Mitte, the district in the center of Berlin with many tourist attractions has the most higher priced listings as well as most lower priced listings, reflecting its attraction to a diverse range of visitors.\n",
    "Other districts, like Neukölln for instance, show a clearer tendency towards a more lower price segment, with a dominance of cheaper listings."
   ]
  },
  {
   "cell_type": "markdown",
   "metadata": {},
   "source": [
    "Next, we're going to split up the price structure by the number of beds offered. This should gives as a more granular overview of the price differences between districts."
   ]
  },
  {
   "cell_type": "code",
   "execution_count": null,
   "metadata": {},
   "outputs": [],
   "source": [
    "# We're going to look at appartements with at least one and maximally 8 beds\n",
    "ber_avg_price = ber_avg_price[(ber_avg_price[\"beds\"]<=8) & (ber_avg_price[\"beds\"]>0)]\n",
    "ber_avg_price[\"beds\"] = ber_avg_price[\"beds\"].astype(int)\n",
    "\n",
    "price_per_beds = ber_avg_price.groupby([\"neighbourhood_group_cleansed\", \"beds\"])[\"price\"].median().unstack()"
   ]
  },
  {
   "cell_type": "code",
   "execution_count": null,
   "metadata": {},
   "outputs": [],
   "source": [
    "plt.figure(figsize=(8,5))\n",
    "sns.heatmap(price_per_beds, annot=True, fmt=\".0f\", cmap=\"YlGnBu\", cbar_kws={'label': 'Median Prize ($)'})\n",
    "plt.xlabel(\"Beds\")\n",
    "plt.ylabel(\"\")\n",
    "plt.title(\"Median Price by District and Number of Beds\", size=14, pad=12)\n",
    "plt.tight_layout();"
   ]
  },
  {
   "cell_type": "markdown",
   "metadata": {},
   "source": [
    "For listing with up to 4 beds a similar picture emerges as before, with Berlin-Mitte for example in the higher price category. In contrast to that, for listings with 5 and more beds this clear separation between districts disappears."
   ]
  },
  {
   "cell_type": "markdown",
   "metadata": {},
   "source": [
    "### 2. Do visitor numbers and listing prices fluctuate over the year?"
   ]
  },
  {
   "cell_type": "markdown",
   "metadata": {},
   "source": [
    "There is no direct way to get the number of actual visitors from the data. However, one can use the amount of written reviews as an indication of the actual number of visitors."
   ]
  },
  {
   "cell_type": "code",
   "execution_count": null,
   "metadata": {},
   "outputs": [],
   "source": [
    "ber_reviews_url = \"http://data.insideairbnb.com/germany/be/berlin/2019-07-11/visualisations/reviews.csv\"\n",
    "ber_reviews = pd.read_csv(ber_reviews_url)\n",
    "\n",
    "ber_reviews[\"date\"] = pd.to_datetime(ber_reviews[\"date\"])\n",
    "ber_reviews.set_index(ber_reviews[\"date\"], inplace=True)\n",
    "ber_reviews = ber_reviews[[\"listing_id\"]]\n",
    "\n",
    "# Selecting the reviews for the last 4 years\n",
    "ber_reviews = ber_reviews.loc['2015-7-12':'2019-7-11']\n",
    "\n",
    "# Calculating total reviews per month\n",
    "# Divided by 4, because we're looking at the average count over a 4 year period\n",
    "ber_monthly_reviews = ber_reviews.groupby(ber_reviews.index.month).count()/4\n",
    "ber_monthly_reviews.reset_index(inplace=True)"
   ]
  },
  {
   "cell_type": "code",
   "execution_count": null,
   "metadata": {},
   "outputs": [],
   "source": [
    "# Adding a datetime index to the calendar data\n",
    "ber_calendar[\"date\"] = pd.to_datetime(ber_calendar[\"date\"])\n",
    "ber_calendar.set_index(ber_calendar[\"date\"], inplace=True)\n",
    "\n",
    "# Aggregating monthly data\n",
    "ber_month_avg = ber_calendar.groupby(ber_calendar.index.month)[\"price\"].mean()\n",
    "ber_month_avg = ber_month_avg.reset_index()\n",
    "\n",
    "months = {1:\"Jan\", 2:\"Feb\", 3:\"Mar\", 4:\"Apr\", 5:\"May\", 6:\"Jun\", \n",
    "          7:\"Jul\", 8:\"Aug\", 9:\"Sep\", 10:\"Okt\", 11:\"Nov\", 12:\"Dez\"}\n",
    "\n",
    "ber_monthly_reviews[\"date\"] = ber_monthly_reviews[\"date\"].replace(months)\n",
    "ber_month_avg[\"date\"] = ber_month_avg[\"date\"].replace(months)"
   ]
  },
  {
   "cell_type": "code",
   "execution_count": null,
   "metadata": {},
   "outputs": [],
   "source": [
    "fig, ax1 = plt.subplots(figsize=(6, 4))\n",
    "\n",
    "color = \"#0485d1\"\n",
    "ax1.set_xlabel('')\n",
    "ax1.set_ylabel('Average Monthly Reviews', color=color, size=12)\n",
    "ax1.plot(ber_monthly_reviews[\"date\"], ber_monthly_reviews[\"listing_id\"], color=color, marker=\"o\", lw=2)\n",
    "\n",
    "ax2 = ax1.twinx()  # instantiate a second axes that shares the same x-axis\n",
    "\n",
    "color = \"#ff474c\"\n",
    "ax2.set_ylabel('Average Monthly Price ($)', color=color, size=12) \n",
    "ax2.plot(ber_month_avg[\"date\"], ber_month_avg[\"price\"], color=color, marker=\"o\", lw=2)\n",
    "ax2.set_ylim(60,70)\n",
    "\n",
    "plt.title(\"Monthly Changes in Number of\\nReviews and Listing Prices\", size=14, pad=12)\n",
    "fig.tight_layout();"
   ]
  },
  {
   "cell_type": "markdown",
   "metadata": {},
   "source": [
    "text text text"
   ]
  },
  {
   "cell_type": "markdown",
   "metadata": {},
   "source": [
    "### 3. How do Airbnb prices in Berlin compare to another large german city, Munich?"
   ]
  },
  {
   "cell_type": "code",
   "execution_count": null,
   "metadata": {},
   "outputs": [],
   "source": [
    "# Loading the calendar data for Munich\n",
    "mun_calendar_url = \"http://data.insideairbnb.com/germany/bv/munich/2019-07-16/data/calendar.csv.gz\"\n",
    "mun_calendar = pd.read_csv(mun_calendar_url)\n",
    "\n",
    "# Converting the price variable in mun_calendar to numeric\n",
    "mun_calendar[\"price\"] = pd.to_numeric(mun_calendar[\"price\"].str.replace(\"$\",\"\"), errors=\"coerce\")\n",
    "mun_calendar = mun_calendar.dropna(subset=[\"price\"])\n",
    "\n",
    "# Calculating the average price for every listing throughout the whole year\n",
    "mun_avg_price = mun_calendar.groupby(\"listing_id\")[\"price\"].mean()\n",
    "mun_avg_price = mun_avg_price.reset_index()"
   ]
  },
  {
   "cell_type": "code",
   "execution_count": null,
   "metadata": {},
   "outputs": [],
   "source": [
    "plt.figure(figsize=(8,5))\n",
    "sns.distplot(ber_avg_price[\"price\"] , color=\"#0485d1\", label=\"Berlin\", kde=False)\n",
    "\n",
    "ber_mean = ber_avg_price[\"price\"].mean()\n",
    "plt.axvline(ber_mean, color=\"#0485d1\", linestyle='--', ymax=0.96)\n",
    "plt.text(69, 7100, \"Berlin Average\\nListing Price:{:.2f}$\".format(ber_mean), fontsize = 11)\n",
    "\n",
    "sns.distplot(mun_avg_price[\"price\"] , color=\"#ff474c\", label=\"Munich\", kde=False)\n",
    "\n",
    "mun_mean = mun_avg_price[\"price\"].mean()\n",
    "plt.axvline(mun_mean, color=\"#ff474c\", linestyle='--', ymax=0.5)\n",
    "plt.text(113, 3400, \"Munich Average\\nListing Price:{:.2f}$\".format(mun_mean), fontsize = 11)\n",
    "\n",
    "plt.xlim(0, 300)\n",
    "plt.xlabel(\"Listing Price ($)\", size=12)\n",
    "plt.ylabel(\"Number of Listings\", size=12)\n",
    "plt.title(\"Distribution of Airbnb Listing Prices\\nin Berlin and Munich\", size=14, pad=12)\n",
    "sns.despine()\n",
    "plt.tight_layout()\n",
    "plt.legend(frameon=False)\n",
    "plt.savefig(\"fig5.png\", dpi=100);"
   ]
  },
  {
   "cell_type": "markdown",
   "metadata": {},
   "source": [
    "The comparison of the price distributions shows that Berlin has more listings in total and more listings in lower price segments (< 50\\\\$). Munich on the other hand has a higher proportion of highly priced listings. Accordingly the average listing price in Munich is 110.71\\\\$ compared to 66.54$ in Berlin."
   ]
  },
  {
   "cell_type": "code",
   "execution_count": null,
   "metadata": {},
   "outputs": [],
   "source": [
    "mun_reviews_url = \"http://data.insideairbnb.com/germany/bv/munich/2019-07-16/visualisations/reviews.csv\"\n",
    "mun_reviews = pd.read_csv(mun_reviews_url)\n",
    "\n",
    "mun_reviews[\"date\"] = pd.to_datetime(mun_reviews[\"date\"])\n",
    "mun_reviews.set_index(mun_reviews[\"date\"], inplace=True)\n",
    "mun_reviews = mun_reviews[[\"listing_id\"]]\n",
    "\n",
    "# Selecting the reviews for the last 4 years\n",
    "mun_reviews = mun_reviews.loc['2015-7-12':'2019-7-11']\n",
    "\n",
    "# Calculating total reviews per month\n",
    "# Divided by 4, because we're looking at the average count over a 4 year period\n",
    "mun_monthly_reviews = mun_reviews.groupby(mun_reviews.index.month).count()/4\n",
    "mun_monthly_reviews.reset_index(inplace=True)\n",
    "\n",
    "mun_monthly_reviews[\"date\"] = mun_monthly_reviews[\"date\"].replace(months)"
   ]
  },
  {
   "cell_type": "code",
   "execution_count": null,
   "metadata": {},
   "outputs": [],
   "source": [
    "plt.figure(figsize=(6,4))\n",
    "plt.plot(ber_monthly_reviews[\"date\"], ber_monthly_reviews[\"listing_id\"], marker=\"o\", lw=2, color=\"#0485d1\")\n",
    "plt.plot(mun_monthly_reviews[\"date\"], mun_monthly_reviews[\"listing_id\"], marker=\"o\", lw=2, color=\"#ff474c\")\n",
    "\n",
    "plt.ylabel(\"\")\n",
    "plt.text(0,7800, \"Berlin\", size=12, color=\"#0485d1\")\n",
    "plt.text(0,2600, \"Munich\", size=12, color=\"#ff474c\")\n",
    "plt.title(\"Average Number of Reviews per Month\", size=14, pad=12)\n",
    "sns.despine();"
   ]
  }
 ],
 "metadata": {
  "kernelspec": {
   "display_name": "Python 3",
   "language": "python",
   "name": "python3"
  },
  "language_info": {
   "codemirror_mode": {
    "name": "ipython",
    "version": 3
   },
   "file_extension": ".py",
   "mimetype": "text/x-python",
   "name": "python",
   "nbconvert_exporter": "python",
   "pygments_lexer": "ipython3",
   "version": "3.6.9"
  }
 },
 "nbformat": 4,
 "nbformat_minor": 2
}
